{
 "cells": [
  {
   "cell_type": "code",
   "execution_count": 1,
   "id": "b2f017d4",
   "metadata": {},
   "outputs": [
    {
     "name": "stdout",
     "output_type": "stream",
     "text": [
      "Requirement already satisfied: feedparser in c:\\users\\gpr\\documents\\case indicium\\venv_srag\\lib\\site-packages (6.0.12)\n",
      "Requirement already satisfied: sgmllib3k in c:\\users\\gpr\\documents\\case indicium\\venv_srag\\lib\\site-packages (from feedparser) (1.0.0)\n",
      "Note: you may need to restart the kernel to use updated packages.\n"
     ]
    },
    {
     "name": "stderr",
     "output_type": "stream",
     "text": [
      "\n",
      "[notice] A new release of pip available: 22.3.1 -> 25.2\n",
      "[notice] To update, run: python.exe -m pip install --upgrade pip\n"
     ]
    }
   ],
   "source": [
    "pip install feedparser"
   ]
  },
  {
   "cell_type": "code",
   "execution_count": 2,
   "id": "90e1ba05",
   "metadata": {},
   "outputs": [
    {
     "name": "stdout",
     "output_type": "stream",
     "text": [
      "Requirement already satisfied: beautifulsoup4 in c:\\users\\gpr\\documents\\case indicium\\venv_srag\\lib\\site-packages (4.13.5)\n",
      "Requirement already satisfied: soupsieve>1.2 in c:\\users\\gpr\\documents\\case indicium\\venv_srag\\lib\\site-packages (from beautifulsoup4) (2.8)\n",
      "Requirement already satisfied: typing-extensions>=4.0.0 in c:\\users\\gpr\\documents\\case indicium\\venv_srag\\lib\\site-packages (from beautifulsoup4) (4.14.1)\n",
      "Note: you may need to restart the kernel to use updated packages.\n"
     ]
    },
    {
     "name": "stderr",
     "output_type": "stream",
     "text": [
      "\n",
      "[notice] A new release of pip available: 22.3.1 -> 25.2\n",
      "[notice] To update, run: python.exe -m pip install --upgrade pip\n"
     ]
    }
   ],
   "source": [
    "pip install beautifulsoup4"
   ]
  },
  {
   "cell_type": "code",
   "execution_count": 3,
   "id": "985f9911",
   "metadata": {},
   "outputs": [],
   "source": [
    "# --- Standard Library ---\n",
    "import os\n",
    "import requests\n",
    "\n",
    "# --- Third-Party Libraries ---\n",
    "import pandas as pd\n",
    "from bs4 import BeautifulSoup\n",
    "import feedparser\n",
    "from dotenv import load_dotenv\n",
    "\n",
    "# --- LangChain / AI Related ---\n",
    "\n",
    "from sentence_transformers import SentenceTransformer\n",
    "from langchain.vectorstores import FAISS\n",
    "from langchain.schema import Document\n",
    "import pandas as pd\n",
    "\n",
    "from langchain.embeddings.base import Embeddings\n",
    "from typing import List"
   ]
  },
  {
   "cell_type": "code",
   "execution_count": 17,
   "id": "3b8696b0",
   "metadata": {},
   "outputs": [
    {
     "data": {
      "text/plain": [
       "list"
      ]
     },
     "execution_count": 17,
     "metadata": {},
     "output_type": "execute_result"
    }
   ],
   "source": [
    "type(results)"
   ]
  },
  {
   "cell_type": "code",
   "execution_count": 4,
   "id": "4161926d",
   "metadata": {},
   "outputs": [],
   "source": [
    "pd.set_option('display.max_columns', None)\n",
    "pd.set_option('display.max_colwidth', None)"
   ]
  },
  {
   "cell_type": "markdown",
   "id": "b053ff93",
   "metadata": {},
   "source": [
    "## Teste e definição de ferramentas de web scrapping (ou com propósito similar)"
   ]
  },
  {
   "cell_type": "markdown",
   "id": "9fc5af5c",
   "metadata": {},
   "source": [
    "Aqui foram testadas algumas ferramentas de web scraping, inicialmente tentando extrair notícias da fonte https://busca.ebc.com.br/?site_id=agenciabrasil&q=SRAG (Agência Brasil), que parece conter uma boa quantidade de informações relacionadas à SRAG's.\n"
   ]
  },
  {
   "cell_type": "markdown",
   "id": "f8032ee7",
   "metadata": {},
   "source": [
    "### Teste web scrapping"
   ]
  },
  {
   "cell_type": "code",
   "execution_count": 5,
   "id": "0c59bb3a",
   "metadata": {},
   "outputs": [],
   "source": [
    "def scrape_agencia_brasil(query: str, max_pages: int = 1):\n",
    "    \"\"\"\n",
    "    Scrape news articles from Agência Brasil search results.\n",
    "\n",
    "    Args:\n",
    "        query (str): Search keyword (e.g., \"SRAG\").\n",
    "        max_pages (int): Number of pages of results to scrape.\n",
    "\n",
    "    Returns:\n",
    "        pd.DataFrame: Table with columns [title, link, summary, date].\n",
    "    \"\"\"\n",
    "    base_url = \"https://busca.ebc.com.br/\"\n",
    "    results = []\n",
    "\n",
    "    for page in range(1, max_pages + 1):\n",
    "        url = f\"{base_url}?site_id=agenciabrasil&q={query}&page={page}\"\n",
    "        resp = requests.get(url, timeout=10)\n",
    "        resp.raise_for_status()\n",
    "\n",
    "        soup = BeautifulSoup(resp.text, \"html.parser\")\n",
    "\n",
    "        # Cada resultado está dentro de <li> na lista\n",
    "        for item in soup.select(\"ul.search-results > li\"):\n",
    "            title_el = item.select_one(\"h2 a\")\n",
    "            summary_el = item.select_one(\"p\")\n",
    "            date_el = item.select_one(\"span.date\")\n",
    "\n",
    "            title = title_el.get_text(strip=True) if title_el else None\n",
    "            link = title_el[\"href\"] if title_el else None\n",
    "            summary = summary_el.get_text(strip=True) if summary_el else None\n",
    "            date = date_el.get_text(strip=True) if date_el else None\n",
    "\n",
    "            results.append({\n",
    "                \"title\": title,\n",
    "                \"link\": link,\n",
    "                \"summary\": summary,\n",
    "                \"date\": date\n",
    "            })\n",
    "\n",
    "    return pd.DataFrame(results)\n"
   ]
  },
  {
   "cell_type": "code",
   "execution_count": 6,
   "id": "6f250fe0",
   "metadata": {},
   "outputs": [
    {
     "name": "stdout",
     "output_type": "stream",
     "text": [
      "Empty DataFrame\n",
      "Columns: []\n",
      "Index: []\n"
     ]
    }
   ],
   "source": [
    "df_news = scrape_agencia_brasil(\"SRAG\", max_pages=1)\n",
    "print(df_news.head())\n"
   ]
  },
  {
   "cell_type": "markdown",
   "id": "1bab1d9d",
   "metadata": {},
   "source": [
    "DataFrame vazio. O site da Agência Brasil utiliza JavaScript para carregar o conteúdo dinamicamente, então métodos simples de scraping com requests e BeautifulSoup não conseguem capturar os títulos das notícias (pelo menos dentro do meu conhecimento)."
   ]
  },
  {
   "cell_type": "markdown",
   "id": "a873123f",
   "metadata": {},
   "source": [
    "### Teste RSS parser (mais eficiente e mais interessante, pode fazer mais sentido em um escopo de POC)"
   ]
  },
  {
   "cell_type": "code",
   "execution_count": 7,
   "id": "aa5d5e49",
   "metadata": {},
   "outputs": [
    {
     "name": "stdout",
     "output_type": "stream",
     "text": [
      "Infecções por Aedes aegypti elevam risco de complicações no parto\n",
      "Sociedade de Reumatologia defende mais centros de infusão no SUS\n",
      "Saúde lança campanha para reduzir recusa à doação de órgãos\n",
      "Capacitação de generalistas pode agilizar jornada do paciente, diz SBR\n",
      "Internação por Influenza A e Covid cresce no Distrito Federal e Goiás\n",
      "Câmara aprova MP que cria programa Agora Tem Especialistas\n",
      "Anvisa: não há registros que relacionem paracetamol a autismo\n",
      "Uma em cada 4 pessoas já pensou em suicídio, alerta pesquisa\n",
      "Anvisa proíbe venda de café torrado, whey e suplementos; veja marcas\n",
      "Ministério da Saúde reafirma que paracetamol não causa autismo\n"
     ]
    }
   ],
   "source": [
    "# URL do feed RSS\n",
    "rss_url = \"https://agenciabrasil.ebc.com.br/rss/saude/feed.xml\"\n",
    "\n",
    "# Faz o parse do feed\n",
    "feed = feedparser.parse(rss_url)\n",
    "\n",
    "# Filtra notícias que contenham \"SRAG\" no título ou descrição\n",
    "resultados = []\n",
    "for entry in feed.entries:\n",
    "    titulo = entry.title\n",
    "    descricao = entry.get(\"summary\", \"\")\n",
    "    link = entry.link\n",
    "\n",
    "    print(titulo)\n"
   ]
  },
  {
   "cell_type": "markdown",
   "id": "b34c3d3f",
   "metadata": {},
   "source": [
    "Infelizmente não contempla todas as notícias, apenas as principais que não incluem nada sobre SRAG.\n",
    "\n",
    "Necessário tentar algum outro método."
   ]
  },
  {
   "cell_type": "markdown",
   "id": "86b43f32",
   "metadata": {},
   "source": [
    "### Teste utilizando a API do site newsapi "
   ]
  },
  {
   "cell_type": "markdown",
   "id": "147d4ea5",
   "metadata": {},
   "source": [
    "Site de busca que contém api que busca informações de diversas fontes e disponibiliza título, descrição resumida e data das notícias mais relevantes por palavra-chave (no nosso caso, pela palavra SRAG)"
   ]
  },
  {
   "cell_type": "code",
   "execution_count": 8,
   "id": "1ddbc03e",
   "metadata": {},
   "outputs": [],
   "source": [
    "load_dotenv()\n",
    "\n",
    "API_KEY =  os.getenv(\"NEWSAPI_KEY\")\n",
    "QUERY = \"SRAG\"\n",
    "LANGUAGE = \"pt\"\n",
    "PAGE_SIZE = 20  # How many news are displayed\n",
    "\n",
    "url = \"https://newsapi.org/v2/everything\"\n",
    "\n",
    "params = {\n",
    "    \"q\": QUERY,\n",
    "    \"language\": LANGUAGE,\n",
    "    \"pageSize\": PAGE_SIZE,\n",
    "    \"sortBy\": \"publishedAt\",\n",
    "    \"apiKey\": API_KEY\n",
    "}\n",
    "\n",
    "response = requests.get(url, params=params)\n",
    "data = response.json()\n",
    "\n",
    "if data.get(\"status\") == \"ok\":\n",
    "    articles = data.get(\"articles\", [])\n",
    "    if articles:\n",
    "        # Transform news to a dataframe \n",
    "        df_news = pd.DataFrame([\n",
    "            {\n",
    "                \"title\": art[\"title\"],\n",
    "                \"description\": art[\"description\"],\n",
    "                \"url\": art[\"url\"],\n",
    "                \"publishedAt\": art[\"publishedAt\"],\n",
    "                \"source\": art[\"source\"][\"name\"]\n",
    "            }\n",
    "            for art in articles\n",
    "        ])\n",
    "else:\n",
    "    print(\"Erro na requisição:\", data.get(\"message\"))\n"
   ]
  },
  {
   "cell_type": "code",
   "execution_count": 9,
   "id": "4329378e",
   "metadata": {},
   "outputs": [],
   "source": [
    "df_news[\"title\"] = df_news[\"title\"].fillna(\"no-title\")"
   ]
  },
  {
   "cell_type": "code",
   "execution_count": 10,
   "id": "c2932af1",
   "metadata": {},
   "outputs": [
    {
     "data": {
      "text/html": [
       "<div>\n",
       "<style scoped>\n",
       "    .dataframe tbody tr th:only-of-type {\n",
       "        vertical-align: middle;\n",
       "    }\n",
       "\n",
       "    .dataframe tbody tr th {\n",
       "        vertical-align: top;\n",
       "    }\n",
       "\n",
       "    .dataframe thead th {\n",
       "        text-align: right;\n",
       "    }\n",
       "</style>\n",
       "<table border=\"1\" class=\"dataframe\">\n",
       "  <thead>\n",
       "    <tr style=\"text-align: right;\">\n",
       "      <th></th>\n",
       "      <th>title</th>\n",
       "      <th>description</th>\n",
       "      <th>url</th>\n",
       "      <th>publishedAt</th>\n",
       "      <th>source</th>\n",
       "    </tr>\n",
       "  </thead>\n",
       "  <tbody>\n",
       "    <tr>\n",
       "      <th>0</th>\n",
       "      <td>Risco de nova pandemia nesse momento vem principalmente das Américas, diz virologista</td>\n",
       "      <td>A disseminação da gripe aviária H5N1 no continente americano, em especial nos EUA, aumenta a probabilidade do vírus se adaptar aos humanos \\nThe post Risco de nova pandemia nesse momento vem principalmente das Américas, diz virologista appeared first on InfoMo…</td>\n",
       "      <td>https://oglobo.globo.com/saude/noticia/2025/09/21/o-risco-de-uma-nova-pandemia-nesse-momento-vem-principalmente-das-americas-afirma-virologista.ghtml</td>\n",
       "      <td>2025-09-21T15:28:18Z</td>\n",
       "      <td>Globo</td>\n",
       "    </tr>\n",
       "    <tr>\n",
       "      <th>1</th>\n",
       "      <td>no-title</td>\n",
       "      <td>Oito estados e cinco capitais estão em nível de alerta ou risco para SRAG nas últimas duas semanas</td>\n",
       "      <td>https://www1.folha.uol.com.br/equilibrioesaude/2025/09/infeccoes-respiratorias-graves-apresentam-tendencia-de-aumento-no-brasil-aponta-boletim-da-fiocruz.shtml</td>\n",
       "      <td>2025-09-18T21:37:11Z</td>\n",
       "      <td>Uol.com.br</td>\n",
       "    </tr>\n",
       "    <tr>\n",
       "      <th>2</th>\n",
       "      <td>Casos de doenças respiratórias aumentam e DF entra em nível de alerta</td>\n",
       "      <td>Boletim da Fiocruz revela crescimento de ocorrências recentes e indicativo de tendência de alta; queda na vacinação pode ser um dos fatores</td>\n",
       "      <td>https://www.metropoles.com/distrito-federal/casos-de-doencas-respiratorias-aumentam-e-df-entra-em-nivel-de-alerta</td>\n",
       "      <td>2025-09-14T17:17:40Z</td>\n",
       "      <td>Metropoles.com</td>\n",
       "    </tr>\n",
       "    <tr>\n",
       "      <th>3</th>\n",
       "      <td>83% das mortes por gripe em Campinas em 2025 são de pessoas sem vacina</td>\n",
       "      <td>Campinas soma 49 óbitos por Síndrome Respiratória Aguda Grace, que é provocada pelo vírus Influenza. \\nDivulgação\\nA Prefeitura de Campinas confirmou mais três mortes por Síndrome Respiratória Aguda Grave (SRAG), que é provocada pelo vírus Influenza. Ao todo, a…</td>\n",
       "      <td>https://g1.globo.com/sp/campinas-regiao/noticia/2025/08/26/83percent-das-mortes-por-gripe-em-campinas-em-2025-sao-de-pessoas-sem-vacina.ghtml</td>\n",
       "      <td>2025-08-26T21:17:49Z</td>\n",
       "      <td>Globo</td>\n",
       "    </tr>\n",
       "  </tbody>\n",
       "</table>\n",
       "</div>"
      ],
      "text/plain": [
       "                                                                                   title  \\\n",
       "0  Risco de nova pandemia nesse momento vem principalmente das Américas, diz virologista   \n",
       "1                                                                               no-title   \n",
       "2                  Casos de doenças respiratórias aumentam e DF entra em nível de alerta   \n",
       "3                 83% das mortes por gripe em Campinas em 2025 são de pessoas sem vacina   \n",
       "\n",
       "                                                                                                                                                                                                                                                              description  \\\n",
       "0   A disseminação da gripe aviária H5N1 no continente americano, em especial nos EUA, aumenta a probabilidade do vírus se adaptar aos humanos \\nThe post Risco de nova pandemia nesse momento vem principalmente das Américas, diz virologista appeared first on InfoMo…   \n",
       "1                                                                                                                                                                      Oito estados e cinco capitais estão em nível de alerta ou risco para SRAG nas últimas duas semanas   \n",
       "2                                                                                                                             Boletim da Fiocruz revela crescimento de ocorrências recentes e indicativo de tendência de alta; queda na vacinação pode ser um dos fatores   \n",
       "3  Campinas soma 49 óbitos por Síndrome Respiratória Aguda Grace, que é provocada pelo vírus Influenza. \\nDivulgação\\nA Prefeitura de Campinas confirmou mais três mortes por Síndrome Respiratória Aguda Grave (SRAG), que é provocada pelo vírus Influenza. Ao todo, a…   \n",
       "\n",
       "                                                                                                                                                               url  \\\n",
       "0            https://oglobo.globo.com/saude/noticia/2025/09/21/o-risco-de-uma-nova-pandemia-nesse-momento-vem-principalmente-das-americas-afirma-virologista.ghtml   \n",
       "1  https://www1.folha.uol.com.br/equilibrioesaude/2025/09/infeccoes-respiratorias-graves-apresentam-tendencia-de-aumento-no-brasil-aponta-boletim-da-fiocruz.shtml   \n",
       "2                                                https://www.metropoles.com/distrito-federal/casos-de-doencas-respiratorias-aumentam-e-df-entra-em-nivel-de-alerta   \n",
       "3                    https://g1.globo.com/sp/campinas-regiao/noticia/2025/08/26/83percent-das-mortes-por-gripe-em-campinas-em-2025-sao-de-pessoas-sem-vacina.ghtml   \n",
       "\n",
       "            publishedAt          source  \n",
       "0  2025-09-21T15:28:18Z           Globo  \n",
       "1  2025-09-18T21:37:11Z      Uol.com.br  \n",
       "2  2025-09-14T17:17:40Z  Metropoles.com  \n",
       "3  2025-08-26T21:17:49Z           Globo  "
      ]
     },
     "execution_count": 10,
     "metadata": {},
     "output_type": "execute_result"
    }
   ],
   "source": [
    "df_news"
   ]
  },
  {
   "cell_type": "markdown",
   "id": "b3de561e",
   "metadata": {},
   "source": [
    "## Criação da vectorstore para a busca"
   ]
  },
  {
   "cell_type": "markdown",
   "id": "1b51bb3e",
   "metadata": {},
   "source": [
    "Para a criação da base de dados vetorial e embeddings serão utilizadas duas ferramentas principais:\n",
    "\n",
    "- FAISS:\n",
    "FAISS é um banco vetorial rápido e eficiente, ideal para armazenar e buscar grandes volumes de vetores. Ele permite que o agente encontre rapidamente notícias relevantes, mesmo em datasets grandes, garantindo consultas por similaridade em tempo real.\n",
    "\n",
    "- OpenAI Embeddings:\n",
    "Os embeddings da OpenAI transformam textos em vetores que capturam o significado das palavras e sentenças. Isso possibilita buscas semânticas no banco vetorial, recuperando notícias relacionadas a SRAG mesmo que a redação seja diferente, dando contexto preciso para o relatório.\n"
   ]
  },
  {
   "cell_type": "code",
   "execution_count": 11,
   "id": "02c7390d",
   "metadata": {},
   "outputs": [
    {
     "data": {
      "text/html": [
       "<div>\n",
       "<style scoped>\n",
       "    .dataframe tbody tr th:only-of-type {\n",
       "        vertical-align: middle;\n",
       "    }\n",
       "\n",
       "    .dataframe tbody tr th {\n",
       "        vertical-align: top;\n",
       "    }\n",
       "\n",
       "    .dataframe thead th {\n",
       "        text-align: right;\n",
       "    }\n",
       "</style>\n",
       "<table border=\"1\" class=\"dataframe\">\n",
       "  <thead>\n",
       "    <tr style=\"text-align: right;\">\n",
       "      <th></th>\n",
       "      <th>title</th>\n",
       "      <th>description</th>\n",
       "      <th>url</th>\n",
       "      <th>publishedAt</th>\n",
       "      <th>source</th>\n",
       "    </tr>\n",
       "  </thead>\n",
       "  <tbody>\n",
       "    <tr>\n",
       "      <th>0</th>\n",
       "      <td>Risco de nova pandemia nesse momento vem principalmente das Américas, diz virologista</td>\n",
       "      <td>A disseminação da gripe aviária H5N1 no continente americano, em especial nos EUA, aumenta a probabilidade do vírus se adaptar aos humanos \\nThe post Risco de nova pandemia nesse momento vem principalmente das Américas, diz virologista appeared first on InfoMo…</td>\n",
       "      <td>https://oglobo.globo.com/saude/noticia/2025/09/21/o-risco-de-uma-nova-pandemia-nesse-momento-vem-principalmente-das-americas-afirma-virologista.ghtml</td>\n",
       "      <td>2025-09-21T15:28:18Z</td>\n",
       "      <td>Globo</td>\n",
       "    </tr>\n",
       "    <tr>\n",
       "      <th>1</th>\n",
       "      <td>no-title</td>\n",
       "      <td>Oito estados e cinco capitais estão em nível de alerta ou risco para SRAG nas últimas duas semanas</td>\n",
       "      <td>https://www1.folha.uol.com.br/equilibrioesaude/2025/09/infeccoes-respiratorias-graves-apresentam-tendencia-de-aumento-no-brasil-aponta-boletim-da-fiocruz.shtml</td>\n",
       "      <td>2025-09-18T21:37:11Z</td>\n",
       "      <td>Uol.com.br</td>\n",
       "    </tr>\n",
       "    <tr>\n",
       "      <th>2</th>\n",
       "      <td>Casos de doenças respiratórias aumentam e DF entra em nível de alerta</td>\n",
       "      <td>Boletim da Fiocruz revela crescimento de ocorrências recentes e indicativo de tendência de alta; queda na vacinação pode ser um dos fatores</td>\n",
       "      <td>https://www.metropoles.com/distrito-federal/casos-de-doencas-respiratorias-aumentam-e-df-entra-em-nivel-de-alerta</td>\n",
       "      <td>2025-09-14T17:17:40Z</td>\n",
       "      <td>Metropoles.com</td>\n",
       "    </tr>\n",
       "    <tr>\n",
       "      <th>3</th>\n",
       "      <td>83% das mortes por gripe em Campinas em 2025 são de pessoas sem vacina</td>\n",
       "      <td>Campinas soma 49 óbitos por Síndrome Respiratória Aguda Grace, que é provocada pelo vírus Influenza. \\nDivulgação\\nA Prefeitura de Campinas confirmou mais três mortes por Síndrome Respiratória Aguda Grave (SRAG), que é provocada pelo vírus Influenza. Ao todo, a…</td>\n",
       "      <td>https://g1.globo.com/sp/campinas-regiao/noticia/2025/08/26/83percent-das-mortes-por-gripe-em-campinas-em-2025-sao-de-pessoas-sem-vacina.ghtml</td>\n",
       "      <td>2025-08-26T21:17:49Z</td>\n",
       "      <td>Globo</td>\n",
       "    </tr>\n",
       "  </tbody>\n",
       "</table>\n",
       "</div>"
      ],
      "text/plain": [
       "                                                                                   title  \\\n",
       "0  Risco de nova pandemia nesse momento vem principalmente das Américas, diz virologista   \n",
       "1                                                                               no-title   \n",
       "2                  Casos de doenças respiratórias aumentam e DF entra em nível de alerta   \n",
       "3                 83% das mortes por gripe em Campinas em 2025 são de pessoas sem vacina   \n",
       "\n",
       "                                                                                                                                                                                                                                                              description  \\\n",
       "0   A disseminação da gripe aviária H5N1 no continente americano, em especial nos EUA, aumenta a probabilidade do vírus se adaptar aos humanos \\nThe post Risco de nova pandemia nesse momento vem principalmente das Américas, diz virologista appeared first on InfoMo…   \n",
       "1                                                                                                                                                                      Oito estados e cinco capitais estão em nível de alerta ou risco para SRAG nas últimas duas semanas   \n",
       "2                                                                                                                             Boletim da Fiocruz revela crescimento de ocorrências recentes e indicativo de tendência de alta; queda na vacinação pode ser um dos fatores   \n",
       "3  Campinas soma 49 óbitos por Síndrome Respiratória Aguda Grace, que é provocada pelo vírus Influenza. \\nDivulgação\\nA Prefeitura de Campinas confirmou mais três mortes por Síndrome Respiratória Aguda Grave (SRAG), que é provocada pelo vírus Influenza. Ao todo, a…   \n",
       "\n",
       "                                                                                                                                                               url  \\\n",
       "0            https://oglobo.globo.com/saude/noticia/2025/09/21/o-risco-de-uma-nova-pandemia-nesse-momento-vem-principalmente-das-americas-afirma-virologista.ghtml   \n",
       "1  https://www1.folha.uol.com.br/equilibrioesaude/2025/09/infeccoes-respiratorias-graves-apresentam-tendencia-de-aumento-no-brasil-aponta-boletim-da-fiocruz.shtml   \n",
       "2                                                https://www.metropoles.com/distrito-federal/casos-de-doencas-respiratorias-aumentam-e-df-entra-em-nivel-de-alerta   \n",
       "3                    https://g1.globo.com/sp/campinas-regiao/noticia/2025/08/26/83percent-das-mortes-por-gripe-em-campinas-em-2025-sao-de-pessoas-sem-vacina.ghtml   \n",
       "\n",
       "            publishedAt          source  \n",
       "0  2025-09-21T15:28:18Z           Globo  \n",
       "1  2025-09-18T21:37:11Z      Uol.com.br  \n",
       "2  2025-09-14T17:17:40Z  Metropoles.com  \n",
       "3  2025-08-26T21:17:49Z           Globo  "
      ]
     },
     "execution_count": 11,
     "metadata": {},
     "output_type": "execute_result"
    }
   ],
   "source": [
    "df_news"
   ]
  },
  {
   "cell_type": "markdown",
   "id": "73e3c0e9",
   "metadata": {},
   "source": [
    "Criando uma classe  que funciona como um adaptador que permite utilizar modelos do `SentenceTransformer` dentro do LangChain. Ela implementa os métodos `embed_documents` e `embed_query` exigidos pela interface `Embeddings`, retornando vetores numéricos que podem ser indexados em um VectorStore (como FAISS).  \n",
    "\n",
    "O objetivo é padronizar o uso de embeddings, permitindo buscas por similaridade de forma consistente, sem alterar a API do LangChain.\n"
   ]
  },
  {
   "cell_type": "code",
   "execution_count": 12,
   "id": "031d8a52",
   "metadata": {},
   "outputs": [],
   "source": [
    "class SentenceTransformerEmbeddings(Embeddings):\n",
    "    def __init__(self, model_name: str = 'all-MiniLM-L6-v2'):\n",
    "        self.model = SentenceTransformer(model_name)\n",
    "    \n",
    "    def embed_documents(self, texts: List[str]) -> List[List[float]]:\n",
    "        return [self.model.encode(t) for t in texts]\n",
    "\n",
    "    def embed_query(self, text: str) -> List[float]:\n",
    "        return self.model.encode(text)"
   ]
  },
  {
   "cell_type": "markdown",
   "id": "2366b278",
   "metadata": {},
   "source": [
    "Realizando um primeiro teste utilizando o título e a descrição da notícia como conteúdos para a base vetorial "
   ]
  },
  {
   "cell_type": "code",
   "execution_count": 13,
   "id": "8105b662",
   "metadata": {},
   "outputs": [
    {
     "name": "stdout",
     "output_type": "stream",
     "text": [
      "Título: 83% das mortes por gripe em Campinas em 2025 são de pessoas sem vacina\n",
      "URL: https://g1.globo.com/sp/campinas-regiao/noticia/2025/08/26/83percent-das-mortes-por-gripe-em-campinas-em-2025-sao-de-pessoas-sem-vacina.ghtml\n",
      "Publicado em: 2025-08-26T21:17:49Z\n",
      "Fonte: Globo\n",
      "Resumo: 83% das mortes por gripe em Campinas em 2025 são de pessoas sem vacina. Campinas soma 49 óbitos por Síndrome Respiratória Aguda Grace, que é provocada pelo vírus Influenza. \n",
      "Divulgação\n",
      "A Prefeitura de Campinas confirmou mais três mortes por Síndrome Respiratória Aguda Grave (SRAG), que é provocada pelo vírus Influenza. Ao todo, a… ...\n",
      "\n",
      "Título: Risco de nova pandemia nesse momento vem principalmente das Américas, diz virologista\n",
      "URL: https://oglobo.globo.com/saude/noticia/2025/09/21/o-risco-de-uma-nova-pandemia-nesse-momento-vem-principalmente-das-americas-afirma-virologista.ghtml\n",
      "Publicado em: 2025-09-21T15:28:18Z\n",
      "Fonte: Globo\n",
      "Resumo: Risco de nova pandemia nesse momento vem principalmente das Américas, diz virologista. A disseminação da gripe aviária H5N1 no continente americano, em especial nos EUA, aumenta a probabilidade do vírus se adaptar aos humanos \n",
      "The post Risco de nova pandemia nesse momento vem principalmente das Américas, diz virologista appeared first on InfoMo… ...\n",
      "\n"
     ]
    }
   ],
   "source": [
    "# Creating list of documents\n",
    "documents = []\n",
    "for _, row in df_news.iterrows():\n",
    "    content = f\"{row['title']}. {row['description']}\"\n",
    "    metadata = {\n",
    "        \"title\": row['title'],\n",
    "        \"url\": row['url'],\n",
    "        \"publishedAt\": row['publishedAt'],\n",
    "        \"source\": row['source']\n",
    "    }\n",
    "    documents.append(Document(page_content=content, metadata=metadata))\n",
    "\n",
    "# Creating embeddings wrapper\n",
    "embedding_wrapper = SentenceTransformerEmbeddings()\n",
    "\n",
    "# Creating \n",
    "#  index from documents\n",
    "vectorstore = FAISS.from_documents(documents, embedding_wrapper)\n",
    "\n",
    "# Exemplo de busca\n",
    "query = \"SRAG aumento de casos/taxa de vacinação/taxa de mortalidade/taxa de internação em UTI/ Brasil\"\n",
    "results = vectorstore.similarity_search(query, k=2)\n",
    "\n",
    "for doc in results:\n",
    "    print(\"Título:\", doc.metadata[\"title\"])\n",
    "    print(\"URL:\", doc.metadata[\"url\"])\n",
    "    print(\"Publicado em:\", doc.metadata[\"publishedAt\"])\n",
    "    print(\"Fonte:\", doc.metadata[\"source\"])\n",
    "    print(\"Resumo:\", doc.page_content, \"...\\n\")"
   ]
  },
  {
   "cell_type": "code",
   "execution_count": 14,
   "id": "4d76f2ee",
   "metadata": {},
   "outputs": [
    {
     "name": "stdout",
     "output_type": "stream",
     "text": [
      "A disseminação da gripe aviária H5N1 no continente americano, em especial nos EUA, aumenta a probabilidade do vírus se adaptar aos humanos \n",
      "The post Risco de nova pandemia nesse momento vem principalmente das Américas, diz virologista appeared first on InfoMo…\n"
     ]
    }
   ],
   "source": [
    "print(df_news[df_news[\"title\"] == \"Risco de nova pandemia nesse momento vem principalmente das Américas, diz virologista\"][\"description\"].item())\n"
   ]
  },
  {
   "cell_type": "markdown",
   "id": "0b19ac51",
   "metadata": {},
   "source": [
    "A notícia de Campinas pode ser relevante, mas a outra não faz muito sentido pois envolve os EUA. \n",
    "\n",
    "Vamos criar a base vetorial com base no título e url apenas, para ver se melhores resultados podem ser obtidos. "
   ]
  },
  {
   "cell_type": "code",
   "execution_count": 54,
   "id": "f82dea1f",
   "metadata": {},
   "outputs": [
    {
     "name": "stdout",
     "output_type": "stream",
     "text": [
      "Título: 83% das mortes por gripe em Campinas em 2025 são de pessoas sem vacina\n",
      "URL: https://g1.globo.com/sp/campinas-regiao/noticia/2025/08/26/83percent-das-mortes-por-gripe-em-campinas-em-2025-sao-de-pessoas-sem-vacina.ghtml\n",
      "Publicado em: 2025-08-26T21:17:49Z\n",
      "Fonte: Globo\n",
      "Description Campinas soma 49 óbitos por Síndrome Respiratória Aguda Grace, que é provocada pelo vírus Influenza. \n",
      "Divulgação\n",
      "A Prefeitura de Campinas confirmou mais três mortes por Síndrome Respiratória Aguda Grave (SRAG), que é provocada pelo vírus Influenza. Ao todo, a…\n",
      "Título: no-title\n",
      "URL: https://www1.folha.uol.com.br/equilibrioesaude/2025/09/infeccoes-respiratorias-graves-apresentam-tendencia-de-aumento-no-brasil-aponta-boletim-da-fiocruz.shtml\n",
      "Publicado em: 2025-09-18T21:37:11Z\n",
      "Fonte: Uol.com.br\n",
      "Description Oito estados e cinco capitais estão em nível de alerta ou risco para SRAG nas últimas duas semanas\n"
     ]
    }
   ],
   "source": [
    "# ---------Creating list of documents ---------\n",
    "documents = []\n",
    "for _, row in df_news.iterrows():\n",
    "    content = f\"{row['title']} {row['url']}\"\n",
    "    metadata = {\n",
    "        \"title\": row['title'],\n",
    "        \"url\": row['url'],\n",
    "        \"publishedAt\": row['publishedAt'],\n",
    "        \"source\": row['source'],\n",
    "        \"description\": row['description']\n",
    "    }\n",
    "    documents.append(Document(page_content=content, metadata=metadata))\n",
    "\n",
    "# --------- Creating a wrapper class for SentenceTransformer --------\n",
    "class SentenceTransformerEmbeddings(Embeddings):\n",
    "    def __init__(self, model_name: str = 'all-MiniLM-L6-v2'):\n",
    "        self.model = SentenceTransformer(model_name)\n",
    "    \n",
    "    def embed_documents(self, texts: List[str]) -> List[List[float]]:\n",
    "        return [self.model.encode(t) for t in texts]\n",
    "\n",
    "    def embed_query(self, text: str) -> List[float]:\n",
    "        return self.model.encode(text)\n",
    "\n",
    "# --------- Creating embeddings wrapper ---------\n",
    "embedding_wrapper = SentenceTransformerEmbeddings()\n",
    "\n",
    "# ---------Creating FAISS index from documents  ---------\n",
    "vectorstore = FAISS.from_documents(documents, embedding_wrapper)\n",
    "\n",
    "# --------- Search example ---------\n",
    "query = \"SRAG aumento de casos/taxa de vacinação/taxa de mortalidade/taxa de internação em UTI/ Brasil\"\n",
    "results = vectorstore.similarity_search(query, k=2)\n",
    "\n",
    "for doc in results:\n",
    "    print(\"Título:\", doc.metadata[\"title\"])\n",
    "    print(\"URL:\", doc.metadata[\"url\"])\n",
    "    print(\"Publicado em:\", doc.metadata[\"publishedAt\"])\n",
    "    print(\"Fonte:\", doc.metadata[\"source\"])\n",
    "    print(\"Description\", doc.metadata[\"description\"])"
   ]
  },
  {
   "cell_type": "code",
   "execution_count": 15,
   "id": "785c2ce6",
   "metadata": {},
   "outputs": [
    {
     "data": {
      "text/plain": [
       "<langchain_community.vectorstores.faiss.FAISS at 0x18733cc10d0>"
      ]
     },
     "execution_count": 15,
     "metadata": {},
     "output_type": "execute_result"
    }
   ],
   "source": [
    "vectorstore"
   ]
  },
  {
   "cell_type": "markdown",
   "id": "8a38ca06",
   "metadata": {},
   "source": [
    "Trouxe notícias mais relevante perante o tema/métricas que foram calculadas.\n",
    "\n",
    "Por enquanto será escolhida essa abordagem de banco de dados vetorial/ busca por similaridade\n",
    "\n",
    "Trabalhos futuros podem trazer mais robustez tanto ao processo de RAG quanto à forma de se extrair as notícias (a API utilizada possui limite de caracteres, o que pode trazer problemas de interpretação para o modelo)"
   ]
  }
 ],
 "metadata": {
  "kernelspec": {
   "display_name": "venv_srag",
   "language": "python",
   "name": "python3"
  },
  "language_info": {
   "codemirror_mode": {
    "name": "ipython",
    "version": 3
   },
   "file_extension": ".py",
   "mimetype": "text/x-python",
   "name": "python",
   "nbconvert_exporter": "python",
   "pygments_lexer": "ipython3",
   "version": "3.11.3"
  }
 },
 "nbformat": 4,
 "nbformat_minor": 5
}
