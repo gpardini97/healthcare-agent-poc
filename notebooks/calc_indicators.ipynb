{
 "cells": [
  {
   "cell_type": "code",
   "execution_count": 1,
   "id": "d952d34e",
   "metadata": {},
   "outputs": [],
   "source": [
    "# --- Standard Library ---\n",
    "import os\n",
    "from pathlib import Path\n",
    "\n",
    "# --- Third-Party Libraries ---\n",
    "import pandas as pd\n",
    "import seaborn as sns\n",
    "import matplotlib.pyplot as plt\n",
    "from matplotlib.dates import DateFormatter"
   ]
  },
  {
   "cell_type": "code",
   "execution_count": 2,
   "id": "253ee467",
   "metadata": {},
   "outputs": [],
   "source": [
    "# Set the maximum number of columns to display \n",
    "pd.set_option('display.max_columns', None)\n",
    "pd.set_option('display.max_colwidth', None)"
   ]
  },
  {
   "cell_type": "code",
   "execution_count": 4,
   "id": "fa67a1dc",
   "metadata": {},
   "outputs": [],
   "source": [
    "BASE_DIR = Path(\"../data/processed\")  \n",
    "\n",
    "df_srag = pd.read_parquet(f\"{BASE_DIR}/df_srag.parquet\")"
   ]
  },
  {
   "cell_type": "markdown",
   "id": "baced7a5",
   "metadata": {},
   "source": [
    "## Ajuste final nos dados"
   ]
  },
  {
   "cell_type": "code",
   "execution_count": 5,
   "id": "7dfd5d99",
   "metadata": {},
   "outputs": [
    {
     "data": {
      "text/plain": [
       "source         object\n",
       "NU_NOTIFIC      int64\n",
       "DT_NOTIFIC     object\n",
       "CLASSI_FIN    float64\n",
       "EVOLUCAO      float64\n",
       "DT_ENCERRA     object\n",
       "UTI           float64\n",
       "VACINA        float64\n",
       "VACINA_COV    float64\n",
       "DT_NASC        object\n",
       "NU_IDADE_N      int64\n",
       "CS_SEXO        object\n",
       "CS_ZONA       float64\n",
       "CO_MUN_RES    float64\n",
       "CO_MUN_NOT    float64\n",
       "SG_UF          object\n",
       "dtype: object"
      ]
     },
     "execution_count": 5,
     "metadata": {},
     "output_type": "execute_result"
    }
   ],
   "source": [
    "df_srag.dtypes"
   ]
  },
  {
   "cell_type": "code",
   "execution_count": 428,
   "id": "a24229f8",
   "metadata": {},
   "outputs": [],
   "source": [
    "df_srag[\"DT_NOTIFIC\"] = pd.to_datetime(df_srag[\"DT_NOTIFIC\"], format=\"%Y-%m-%d\")"
   ]
  },
  {
   "cell_type": "code",
   "execution_count": 429,
   "id": "a6f7dc4a",
   "metadata": {},
   "outputs": [],
   "source": [
    "df_srag = df_srag.sort_values(by=\"DT_NOTIFIC\")"
   ]
  },
  {
   "cell_type": "markdown",
   "id": "d814df09",
   "metadata": {},
   "source": [
    "Eliminando a última data da base pois a informação pode não estar completa (preenchido na metade do dia, ou algo nesse sentido)\n",
    "\n",
    "No site existe a informação do último horário em que os dados foram submetidos, seria interessante criar regras no futuro para garantir a consistência das informações"
   ]
  },
  {
   "cell_type": "code",
   "execution_count": 430,
   "id": "e9a8069c",
   "metadata": {},
   "outputs": [],
   "source": [
    "max_date = df_srag[\"DT_NOTIFIC\"].max()"
   ]
  },
  {
   "cell_type": "code",
   "execution_count": 431,
   "id": "b4aea603",
   "metadata": {},
   "outputs": [
    {
     "data": {
      "text/plain": [
       "Timestamp('2025-09-08 00:00:00')"
      ]
     },
     "execution_count": 431,
     "metadata": {},
     "output_type": "execute_result"
    }
   ],
   "source": [
    "max_date"
   ]
  },
  {
   "cell_type": "code",
   "execution_count": 432,
   "id": "98845d1c",
   "metadata": {},
   "outputs": [],
   "source": [
    "df_srag = df_srag[df_srag[\"DT_NOTIFIC\"] != max_date].copy()"
   ]
  },
  {
   "cell_type": "markdown",
   "id": "08052517",
   "metadata": {},
   "source": [
    "## Criando funções para o cálculo dos indicadores "
   ]
  },
  {
   "cell_type": "markdown",
   "id": "d9f1e886",
   "metadata": {},
   "source": [
    "### Taxa de aumento de casos"
   ]
  },
  {
   "cell_type": "markdown",
   "id": "6070d262",
   "metadata": {},
   "source": [
    "Extraindo da quantidade de casos por dia "
   ]
  },
  {
   "cell_type": "code",
   "execution_count": 433,
   "id": "be38a963",
   "metadata": {},
   "outputs": [],
   "source": [
    "df_srag[\"NU_CASOS\"] = df_srag.groupby(\"DT_NOTIFIC\")[\"NU_NOTIFIC\"].transform(lambda x: x.count())"
   ]
  },
  {
   "cell_type": "markdown",
   "id": "995171ee",
   "metadata": {},
   "source": [
    "Extraindo a quantidade de mortes relacionadas aos casos por dia (EVOLUCAO = 2)"
   ]
  },
  {
   "cell_type": "code",
   "execution_count": null,
   "id": "2439aafc",
   "metadata": {},
   "outputs": [],
   "source": [
    "df_deaths_daily = (\n",
    "    df_srag[df_srag[\"EVOLUCAO\"] == 2]  \n",
    "    .groupby(\"DT_NOTIFIC\")[\"EVOLUCAO\"]  \n",
    "    .count()\n",
    "    .reset_index()\n",
    "    .rename(columns={\"EVOLUCAO\": \"NU_OBITOS\"})  \n",
    ")"
   ]
  },
  {
   "cell_type": "markdown",
   "id": "8506bf94",
   "metadata": {},
   "source": [
    "Extraindo a quantidade de internações em UTI's  (UTI = 1)"
   ]
  },
  {
   "cell_type": "code",
   "execution_count": 435,
   "id": "43b528db",
   "metadata": {},
   "outputs": [],
   "source": [
    "df_utis_daily = (\n",
    "    df_srag[df_srag[\"UTI\"] == 1]  \n",
    "    .groupby(\"DT_NOTIFIC\")[\"UTI\"]  \n",
    "    .count()\n",
    "    .reset_index()\n",
    "    .rename(columns={\"UTI\": \"NU_UTI\"})  \n",
    ")"
   ]
  },
  {
   "cell_type": "markdown",
   "id": "d1741430",
   "metadata": {},
   "source": [
    "Agregando todas as informações em uma única tabela com informação diária"
   ]
  },
  {
   "cell_type": "code",
   "execution_count": 436,
   "id": "975a42fa",
   "metadata": {},
   "outputs": [],
   "source": [
    "df_daily_info = df_srag[[\"DT_NOTIFIC\", \"NU_CASOS\"]].drop_duplicates().reset_index(drop=True)"
   ]
  },
  {
   "cell_type": "code",
   "execution_count": null,
   "id": "ed86e6d8",
   "metadata": {},
   "outputs": [],
   "source": [
    "df_daily_info = df_daily_info.merge(df_deaths_daily, on=\"DT_NOTIFIC\", how=\"left\")\n",
    "\n",
    "df_daily_info = df_daily_info.merge(df_utis_daily, on=\"DT_NOTIFIC\", how=\"left\")\n",
    "\n",
    "df_daily_info[\"NU_OBITOS\"] = df_daily_info[\"NU_OBITOS\"].fillna(0)\n",
    "\n",
    "df_daily_info[\"NU_UTI\"] = df_daily_info[\"NU_UTI\"].fillna(0)"
   ]
  },
  {
   "cell_type": "code",
   "execution_count": 438,
   "id": "ab8bc68c",
   "metadata": {},
   "outputs": [],
   "source": [
    "def calc_case_variation_by_period(\n",
    "        df_daily_info: pd.DataFrame, \n",
    "        period_days: int\n",
    ") -> float:\n",
    "    \"\"\"\n",
    "    Calculate the percentage variation of confirmed or suspected SRAG cases over a specific period.\n",
    "\n",
    "    This function compares the total number of cases in the most recent `period_days` \n",
    "    with the total number of cases in the preceding `period_days`. The percentage change\n",
    "    is calculated as:\n",
    "\n",
    "        rate = (current_period_cases - previous_period_cases) / previous_period_cases * 100\n",
    "\n",
    "    Args:\n",
    "        df_daily_info (pd.DataFrame): DataFrame containing daily information regarding case count. \n",
    "            Expected columns:\n",
    "                - 'DT_NOTIFIC' (datetime): date of notification\n",
    "                - 'NU_CASOS' (int/float): number of cases reported that day\n",
    "        period_days (int): Number of days to define the period for rate calculation.\n",
    "            The function will use the last `period_days` as the current period \n",
    "            and the `period_days` immediately before that as the previous period.\n",
    "\n",
    "    Returns:\n",
    "        float: Percentage change of cases between the current and previous period, rounded to 2 decimals.\n",
    "               Returns `inf` or raises an error if the previous period has zero cases.\n",
    "\n",
    "    Notes:\n",
    "        - Only the last 2 * period_days are considered to avoid unnecessary computation.\n",
    "        - Ensure that 'DT_NOTIFIC' is of datetime type.\n",
    "        - This function assumes the DataFrame is not empty and contains sufficient data\n",
    "          for the specified period.\n",
    "    \"\"\"\n",
    "\n",
    "    last_date = df_daily_info[\"DT_NOTIFIC\"].max()\n",
    "\n",
    "    # Start of the window covering the previous and current period\n",
    "    window_start_date = last_date - pd.Timedelta(days=period_days*2 - 1)\n",
    "\n",
    "    # Filter DataFrame to keep only relevant period\n",
    "    df_window = df_daily_info[df_daily_info[\"DT_NOTIFIC\"] >= window_start_date].copy()\n",
    "\n",
    "    # Previous period: first `period_days` in the window\n",
    "    df_prev_period = df_window[df_window[\"DT_NOTIFIC\"] <= window_start_date + pd.Timedelta(days=period_days-1)]\n",
    "    total_prev_cases = df_prev_period[\"NU_CASOS\"].sum()\n",
    "\n",
    "    # Current period: last `period_days` in the window\n",
    "    df_curr_period = df_window[df_window[\"DT_NOTIFIC\"] > window_start_date + pd.Timedelta(days=period_days-1)]\n",
    "    total_curr_cases = df_curr_period[\"NU_CASOS\"].sum()\n",
    "\n",
    "    # Calculate percentage change\n",
    "    rate = (total_curr_cases - total_prev_cases) / total_prev_cases * 100\n",
    "    rate = round(rate, 2)\n",
    "\n",
    "    return rate\n"
   ]
  },
  {
   "cell_type": "code",
   "execution_count": 439,
   "id": "11960455",
   "metadata": {},
   "outputs": [
    {
     "data": {
      "text/plain": [
       "-29.6"
      ]
     },
     "execution_count": 439,
     "metadata": {},
     "output_type": "execute_result"
    }
   ],
   "source": [
    "calc_case_variation_by_period(df_daily_info, 7)"
   ]
  },
  {
   "cell_type": "code",
   "execution_count": 440,
   "id": "9dc3fd6c",
   "metadata": {},
   "outputs": [
    {
     "data": {
      "text/plain": [
       "-30.37"
      ]
     },
     "execution_count": 440,
     "metadata": {},
     "output_type": "execute_result"
    }
   ],
   "source": [
    "calc_case_variation_by_period(df_daily_info, 30)"
   ]
  },
  {
   "cell_type": "markdown",
   "id": "6abf0a6d",
   "metadata": {},
   "source": [
    "### Taxa de mortalidade"
   ]
  },
  {
   "cell_type": "code",
   "execution_count": 441,
   "id": "0876f52d",
   "metadata": {},
   "outputs": [],
   "source": [
    "def calc_death_rate_by_period(\n",
    "        df_daily_info: pd.DataFrame, \n",
    "        period_days: int\n",
    ") -> float:\n",
    "    \"\"\"\n",
    "    Calculate the mortality rate (%) over a specified period of days.\n",
    "\n",
    "    This function computes the percentage of deaths relative to total cases\n",
    "    in the most recent `period_days` from the last available date in the dataset.\n",
    "\n",
    "    Mortality rate is calculated as:\n",
    "\n",
    "        mortality_rate (%) = (total_deaths / total_cases) * 100\n",
    "\n",
    "    Args:\n",
    "        df_daily_info (pd.DataFrame): DataFrame containing daily case and death information.\n",
    "            Expected columns:\n",
    "                - 'DT_NOTIFIC' (datetime): date of notification\n",
    "                - 'NU_CASOS' (int/float): number of cases reported on that day\n",
    "                - 'NU_OBITOS' (int/float): number of deaths reported on that day\n",
    "        period_days (int): Number of most recent days to consider for the mortality calculation.\n",
    "\n",
    "    Returns:\n",
    "        float: Mortality rate (%) over the specified period, rounded to 2 decimals.\n",
    "               Returns `None` if no cases exist in the period to avoid division by zero.\n",
    "\n",
    "    Notes:\n",
    "        - Only the last `period_days` from the latest date in the DataFrame are considered.\n",
    "        - Ensure 'DT_NOTIFIC' is of datetime type and DataFrame is sorted or contains all relevant dates.\n",
    "        - This function is intended for quick reporting of recent trends, not for epidemiological modeling.\n",
    "    \"\"\"\n",
    "\n",
    "    # Identify the last date in the dataset\n",
    "    last_date = df_daily_info[\"DT_NOTIFIC\"].max()\n",
    "\n",
    "    # Define the start of the window for the period\n",
    "    start_date = last_date - pd.Timedelta(days=period_days - 1)\n",
    "\n",
    "    # Filter DataFrame to only include rows in the period\n",
    "    df_period = df_daily_info[df_daily_info[\"DT_NOTIFIC\"] >= start_date].copy()\n",
    "\n",
    "    # Sum total cases and deaths in the period\n",
    "    total_cases = df_period[\"NU_CASOS\"].sum()\n",
    "    total_deaths = df_period[\"NU_OBITOS\"].sum()\n",
    "\n",
    "    # Avoid division by zero\n",
    "    if total_cases == 0:\n",
    "        return None\n",
    "\n",
    "    # Calculate mortality rate as a percentage\n",
    "    mortality_rate = (total_deaths / total_cases) * 100\n",
    "    mortality_rate = round(mortality_rate, 2)\n",
    "\n",
    "    return mortality_rate\n"
   ]
  },
  {
   "cell_type": "code",
   "execution_count": 442,
   "id": "10ad6441",
   "metadata": {},
   "outputs": [
    {
     "data": {
      "text/plain": [
       "5.04"
      ]
     },
     "execution_count": 442,
     "metadata": {},
     "output_type": "execute_result"
    }
   ],
   "source": [
    "calc_death_rate_by_period(df_daily_info, 60)"
   ]
  },
  {
   "cell_type": "markdown",
   "id": "166c46cc",
   "metadata": {},
   "source": [
    "### Taxa de ocupação de UTI"
   ]
  },
  {
   "cell_type": "markdown",
   "id": "09de23a9",
   "metadata": {},
   "source": [
    "Pode utilizar uma abordagem similar à função da taxa de mortalidade, assim, será criada uma função genérica"
   ]
  },
  {
   "cell_type": "code",
   "execution_count": 443,
   "id": "9d963748",
   "metadata": {},
   "outputs": [],
   "source": [
    "def calc_rate_by_period(\n",
    "        df_daily_info: pd.DataFrame, \n",
    "        numerator_col: str, \n",
    "        denominator_col: str, \n",
    "        period_days: int\n",
    ") -> float:\n",
    "    \"\"\"\n",
    "    Calculate the rate (%) of a given numerator over a denominator \n",
    "    within a specified recent period of days.\n",
    "\n",
    "    The function computes the rate as:\n",
    "\n",
    "        rate (%) = (sum(numerator_col) / sum(denominator_col)) * 100\n",
    "\n",
    "    considering only rows within the last `period_days` from the most \n",
    "    recent date in the dataset.\n",
    "\n",
    "    Args:\n",
    "        df_daily_info (pd.DataFrame): DataFrame containing daily information.\n",
    "            Must contain at least:\n",
    "                - 'DT_NOTIFIC' (datetime): date of notification\n",
    "                - `numerator_col` (int/float): column for numerator values\n",
    "                - `denominator_col` (int/float): column for denominator values\n",
    "        numerator_col (str): Column name to be used as the numerator.\n",
    "        denominator_col (str): Column name to be used as the denominator.\n",
    "        period_days (int): Number of most recent days to consider.\n",
    "\n",
    "    Returns:\n",
    "        float: Rate (%) over the specified period, rounded to 2 decimals.\n",
    "               Returns `None` if denominator sum is zero.\n",
    "\n",
    "    Notes:\n",
    "        - Only the last `period_days` from the latest date in the DataFrame are considered.\n",
    "        - Ensure 'DT_NOTIFIC' is datetime type.\n",
    "        - This function is intended for descriptive reporting, not epidemiological modeling.\n",
    "    \"\"\"\n",
    "\n",
    "    # Identify the last date in the dataset\n",
    "    last_date = df_daily_info[\"DT_NOTIFIC\"].max()\n",
    "\n",
    "    # Define the start of the window for the period\n",
    "    start_date = last_date - pd.Timedelta(days=period_days - 1)\n",
    "\n",
    "    # Filter DataFrame to only include rows in the period\n",
    "    df_period = df_daily_info[df_daily_info[\"DT_NOTIFIC\"] >= start_date].copy()\n",
    "\n",
    "    # Sum numerator and denominator\n",
    "    numerator = df_period[numerator_col].sum()\n",
    "    denominator = df_period[denominator_col].sum()\n",
    "\n",
    "    # Avoid division by zero\n",
    "    if denominator == 0:\n",
    "        return None\n",
    "\n",
    "    # Calculate rate as percentage\n",
    "    rate = (numerator / denominator) * 100\n",
    "    rate = round(rate, 2)\n",
    "\n",
    "    return rate\n"
   ]
  },
  {
   "cell_type": "markdown",
   "id": "63c1cb4d",
   "metadata": {},
   "source": [
    "Validando para a taxa de mortalidade (calculada anteriormente)"
   ]
  },
  {
   "cell_type": "code",
   "execution_count": 444,
   "id": "37fba2cb",
   "metadata": {},
   "outputs": [
    {
     "data": {
      "text/plain": [
       "5.04"
      ]
     },
     "execution_count": 444,
     "metadata": {},
     "output_type": "execute_result"
    }
   ],
   "source": [
    "calc_rate_by_period(df_daily_info, \"NU_OBITOS\", \"NU_CASOS\", 60)"
   ]
  },
  {
   "cell_type": "markdown",
   "id": "aba06ebf",
   "metadata": {},
   "source": [
    "Ok, calculando a taxa de ocupação de UTI"
   ]
  },
  {
   "cell_type": "code",
   "execution_count": 445,
   "id": "ec85cb43",
   "metadata": {},
   "outputs": [
    {
     "data": {
      "text/plain": [
       "25.52"
      ]
     },
     "execution_count": 445,
     "metadata": {},
     "output_type": "execute_result"
    }
   ],
   "source": [
    "calc_rate_by_period(df_daily_info, \"NU_UTI\", \"NU_CASOS\", 60)"
   ]
  },
  {
   "cell_type": "markdown",
   "id": "63201065",
   "metadata": {},
   "source": [
    "### Taxa de vacinação da população"
   ]
  },
  {
   "cell_type": "code",
   "execution_count": 446,
   "id": "9310624c",
   "metadata": {},
   "outputs": [
    {
     "data": {
      "text/plain": [
       "CLASSI_FIN\n",
       "5.0    2279708\n",
       "4.0    1510748\n",
       "2.0     258528\n",
       "NaN     170116\n",
       "1.0     111117\n",
       "3.0      23837\n",
       "Name: count, dtype: int64"
      ]
     },
     "execution_count": 446,
     "metadata": {},
     "output_type": "execute_result"
    }
   ],
   "source": [
    "df_srag[\"CLASSI_FIN\"].value_counts(dropna=False)"
   ]
  },
  {
   "cell_type": "markdown",
   "id": "8bd9e01c",
   "metadata": {},
   "source": [
    "Existem duas colunas para a vacinação - VACINA_COV (covid) e VACINA (outras gripes)\n",
    "\n",
    "A rotulagem de cada caso como vacinado ou não será estabelecida através da classificação final (CLASSI_FIN) da doença, da seguinte forma:\n",
    "\n",
    " - Para os casos específicos, apenas as respectivas vacinas serão consideradas (COVID - 5/ Influenza - 1)\n",
    "\n",
    " - Para o restante dos casos, para evitar erros, serão considerados apenas como vacinados os casos em que ambas as vacinas foram aplicadas"
   ]
  },
  {
   "cell_type": "code",
   "execution_count": 447,
   "id": "5c43769c",
   "metadata": {},
   "outputs": [],
   "source": [
    "import pandas as pd\n",
    "\n",
    "def label_vaccination_status(df: pd.DataFrame) -> pd.DataFrame:\n",
    "    \"\"\"\n",
    "    Label vaccination status (Vaccinated / Not Vaccinated) for SRAG cases.\n",
    "\n",
    "    Rules:\n",
    "        1. SRAG due to influenza (CLASSI_FIN == 1):\n",
    "            - Uses only `VACINA` (influenza vaccine).\n",
    "        2. SRAG due to COVID-19 (CLASSI_FIN == 5):\n",
    "            - Uses only `VACINA_COV` (COVID-19 vaccine).\n",
    "        3. Other viruses / agents / unspecified / null classifications:\n",
    "            - Labeled as vaccinated only if both `VACINA == 1` AND `VACINA_COV == 1`.\n",
    "            - If either is \"No\" (2), the case is labeled as not vaccinated.\n",
    "            - If information is missing/ignored (9 or NaN), label is set to None.\n",
    "\n",
    "    Expected column values:\n",
    "        - VACINA, VACINA_COV:\n",
    "            1 = Yes, 2 = No, 9 = Ignored, NaN = Unknown\n",
    "        - CLASSI_FIN:\n",
    "            1 = Influenza\n",
    "            2 = Other respiratory virus\n",
    "            3 = Other etiological agent\n",
    "            4 = Unspecified\n",
    "            5 = COVID-19\n",
    "            NaN = Unknown\n",
    "\n",
    "    Args:\n",
    "        df (pd.DataFrame): DataFrame containing the columns\n",
    "                           'CLASSI_FIN', 'VACINA', and 'VACINA_COV'.\n",
    "\n",
    "    Returns:\n",
    "        pd.DataFrame: Copy of the input DataFrame with an additional column 'VACINADO':\n",
    "                      - 1 = Vaccinated\n",
    "                      - 0 = Not vaccinated\n",
    "                      - None = Unknown / Ignored\n",
    "    \"\"\"\n",
    "\n",
    "    def classify_row(row):\n",
    "        classification = row[\"CLASSI_FIN\"]\n",
    "        vacina = row[\"VACINA\"]\n",
    "        vacina_covid = row[\"VACINA_COV\"]\n",
    "\n",
    "        # Influenza\n",
    "        if classification == 1:\n",
    "            if vacina == 1:\n",
    "                return 1\n",
    "            else:\n",
    "                return 0\n",
    "\n",
    "        # COVID-19\n",
    "        elif classification == 5:\n",
    "            if vacina_covid == 1:\n",
    "                return 1\n",
    "            else:\n",
    "                return 0\n",
    "\n",
    "        # Other / Unspecified / Null\n",
    "        else:\n",
    "            if vacina == 1 and vacina_covid == 1:\n",
    "                return 1\n",
    "            else:\n",
    "                return 0\n",
    "\n",
    "    df = df.copy()\n",
    "    df[\"VACINADO\"] = df.apply(classify_row, axis=1)\n",
    "\n",
    "    return df\n"
   ]
  },
  {
   "cell_type": "code",
   "execution_count": null,
   "id": "66d2cfb8",
   "metadata": {},
   "outputs": [],
   "source": [
    "#Filtering the df to spare processing \n",
    "\n",
    "max_period = 30 \n",
    "\n",
    "new_max_date = df_srag[\"DT_NOTIFIC\"].max()\n",
    "\n",
    "filter_start_date = new_max_date - pd.Timedelta(days=max_period - 1)\n",
    "\n",
    "df_srag = df_srag[df_srag[\"DT_NOTIFIC\"] >= filter_start_date].copy()\n",
    "\n",
    "df_srag = label_vaccination_status(df_srag)"
   ]
  },
  {
   "cell_type": "code",
   "execution_count": 449,
   "id": "2a9c05df",
   "metadata": {},
   "outputs": [
    {
     "data": {
      "text/plain": [
       "VACINADO\n",
       "0    40188\n",
       "1    10955\n",
       "Name: count, dtype: int64"
      ]
     },
     "execution_count": 449,
     "metadata": {},
     "output_type": "execute_result"
    }
   ],
   "source": [
    "df_srag[\"VACINADO\"].value_counts(dropna=False)"
   ]
  },
  {
   "cell_type": "code",
   "execution_count": 450,
   "id": "c6b70134",
   "metadata": {},
   "outputs": [],
   "source": [
    "df_vacinations_daily = (\n",
    "    df_srag[df_srag[\"VACINADO\"] == 1]  \n",
    "    .groupby(\"DT_NOTIFIC\")[\"VACINADO\"]  \n",
    "    .count()\n",
    "    .reset_index()\n",
    "    .rename(columns={\"VACINADO\": \"NU_VACINADOS\"})  \n",
    ")"
   ]
  },
  {
   "cell_type": "code",
   "execution_count": 455,
   "id": "90e4c5ae",
   "metadata": {},
   "outputs": [],
   "source": [
    "df_daily_info = df_daily_info.merge(df_vacinations_daily, on=\"DT_NOTIFIC\", how=\"left\").fillna(0)"
   ]
  },
  {
   "cell_type": "code",
   "execution_count": 456,
   "id": "a9bd3361",
   "metadata": {},
   "outputs": [
    {
     "data": {
      "text/plain": [
       "21.42"
      ]
     },
     "execution_count": 456,
     "metadata": {},
     "output_type": "execute_result"
    }
   ],
   "source": [
    "calc_rate_by_period(df_daily_info, \"NU_VACINADOS\", \"NU_CASOS\", 60)"
   ]
  },
  {
   "cell_type": "markdown",
   "id": "7e88d22b",
   "metadata": {},
   "source": [
    "## Criando funções para os gráficos"
   ]
  },
  {
   "cell_type": "code",
   "execution_count": 480,
   "id": "da6653dc",
   "metadata": {},
   "outputs": [],
   "source": [
    "import seaborn as sns\n",
    "import matplotlib.pyplot as plt\n",
    "import pandas as pd\n",
    "import os\n",
    "from matplotlib.dates import DateFormatter\n",
    "\n",
    "def plot_case_trends(df_daily_info: pd.DataFrame, daily_period: int = 30, monthly_period: int = 12, save_path: str = None):\n",
    "    \"\"\"\n",
    "    Generate two plots using seaborn/matplotlib:\n",
    "        1. Daily number of cases for the last `daily_period` days (line plot with filled area)\n",
    "        2. Monthly number of cases for the last `monthly_period` months (bar plot with last month highlighted)\n",
    "    \n",
    "    Optionally, save the plots as PNG files.\n",
    "\n",
    "    Args:\n",
    "        df_daily_info (pd.DataFrame): DataFrame with daily case counts.\n",
    "                           Must contain columns:\n",
    "                           - 'DT_NOTIFIC' (datetime)\n",
    "                           - 'NU_CASOS' (int/float)\n",
    "        daily_period (int): Number of days for daily trend plot.\n",
    "        monthly_period (int): Number of months for monthly trend plot.\n",
    "        save_path (str, optional): Directory path to save plots. If None, plots are not saved.\n",
    "    \"\"\"\n",
    "\n",
    "    # Ensure datetime type\n",
    "    df_daily_info[\"DT_NOTIFIC\"] = pd.to_datetime(df_daily_info[\"DT_NOTIFIC\"])\n",
    "\n",
    "    # Set seaborn style\n",
    "    sns.set_theme(style=\"white\")\n",
    "\n",
    "    last_date = df_daily_info[\"DT_NOTIFIC\"].max()\n",
    "\n",
    "    # -----------------------\n",
    "    # Daily plot with filled area\n",
    "    # -----------------------\n",
    "    start_date = last_date - pd.Timedelta(days=daily_period-1)\n",
    "    df_last = df_daily_info[df_daily_info[\"DT_NOTIFIC\"] >= start_date]\n",
    "\n",
    "    plt.figure(figsize=(12, 6))\n",
    "    ax = sns.lineplot(\n",
    "        data=df_last,\n",
    "        x=\"DT_NOTIFIC\",\n",
    "        y=\"NU_CASOS\",\n",
    "        marker=\"o\",\n",
    "        markersize=7,\n",
    "        linewidth=2.5,\n",
    "        color=\"royalblue\"\n",
    "    )\n",
    "\n",
    "    # Fill under the curve\n",
    "    ax.fill_between(df_last[\"DT_NOTIFIC\"], df_last[\"NU_CASOS\"], color=\"royalblue\", alpha=0.2)\n",
    "\n",
    "    # Format x-axis as DD/MM and show all dates\n",
    "    ax.xaxis.set_major_formatter(DateFormatter(\"%d/%m\"))\n",
    "    ax.set_xticks(df_last[\"DT_NOTIFIC\"])\n",
    "    ax.grid(axis='x', linestyle='--', alpha=0.5)  # vertical grid\n",
    "    plt.title(f\"Daily SRAG Cases - Last {daily_period} Days\", fontsize=14, weight=\"bold\")\n",
    "    plt.xlabel(\"Date\")\n",
    "    plt.ylabel(\"Number of Cases\")\n",
    "    plt.xticks(rotation=45)\n",
    "    plt.tight_layout()\n",
    "\n",
    "    if save_path:\n",
    "        os.makedirs(save_path, exist_ok=True)\n",
    "        plt.savefig(os.path.join(save_path, f\"daily_cases_last_{daily_period}_days.png\"), dpi=300)\n",
    "    plt.show()\n",
    "\n",
    "    # -----------------------\n",
    "    # Monthly plot with last partial month highlighted\n",
    "    # -----------------------\n",
    "    start_month = last_date - pd.DateOffset(months=monthly_period)\n",
    "    df_last_n_months = df_daily_info[df_daily_info[\"DT_NOTIFIC\"] >= start_month]\n",
    "\n",
    "    # Aggregate by month-end using ME\n",
    "    df_monthly = (\n",
    "        df_last_n_months\n",
    "        .set_index(\"DT_NOTIFIC\")\n",
    "        .resample(\"ME\")[\"NU_CASOS\"]\n",
    "        .sum()\n",
    "        .reset_index()\n",
    "    )\n",
    "\n",
    "    # Format month as MM/YY\n",
    "    df_monthly[\"month_label\"] = df_monthly[\"DT_NOTIFIC\"].dt.strftime(\"%m/%y\")\n",
    "\n",
    "    # Check if last month is partial\n",
    "    is_last_partial = df_monthly[\"DT_NOTIFIC\"].iloc[-1].month == last_date.month and \\\n",
    "                      df_monthly[\"DT_NOTIFIC\"].iloc[-1].year == last_date.year\n",
    "    if is_last_partial:\n",
    "        df_monthly.loc[df_monthly.index[-1], \"month_label\"] += f\" (until {last_date.strftime('%d/%m')})\"\n",
    "\n",
    "    # Prepare colors: all bars royalblue, last one orange if partial\n",
    "    colors = [\"royalblue\"] * len(df_monthly)\n",
    "    if is_last_partial:\n",
    "        colors[-1] = \"orange\"\n",
    "\n",
    "    plt.figure(figsize=(12, 6))\n",
    "    bars = plt.bar(df_monthly[\"month_label\"], df_monthly[\"NU_CASOS\"], color=colors)\n",
    "\n",
    "    # Highlight last x-axis label (negrito)\n",
    "    if is_last_partial:\n",
    "        tick_labels = plt.gca().get_xticklabels()\n",
    "        tick_labels[-1].set_fontweight(\"bold\")\n",
    "        tick_labels[-1].set_color(\"black\")\n",
    "\n",
    "    plt.title(f\"Monthly SRAG Cases - Last {monthly_period} Months\", fontsize=14, weight=\"bold\")\n",
    "    plt.xlabel(\"Month\")\n",
    "    plt.ylabel(\"Number of Cases\")\n",
    "    plt.xticks(rotation=45)\n",
    "    plt.tight_layout()\n",
    "\n",
    "    if save_path:\n",
    "        plt.savefig(os.path.join(save_path, f\"monthly_cases_last_{monthly_period}_months.png\"), dpi=300)\n",
    "    plt.show()\n"
   ]
  },
  {
   "cell_type": "code",
   "execution_count": 481,
   "id": "dc34ec73",
   "metadata": {},
   "outputs": [
    {
     "data": {
      "image/png": "[encoded data removed]",
      "text/plain": [
       "<Figure size 1200x600 with 1 Axes>"
      ]
     },
     "metadata": {},
     "output_type": "display_data"
    },
    {
     "data": {
      "image/png": "[encoded data removed]",
      "text/plain": [
       "<Figure size 1200x600 with 1 Axes>"
      ]
     },
     "metadata": {},
     "output_type": "display_data"
    }
   ],
   "source": [
    "plot_case_trends(df_daily_info)"
   ]
  }
 ],
 "metadata": {
  "kernelspec": {
   "display_name": "venv_srag",
   "language": "python",
   "name": "python3"
  },
  "language_info": {
   "codemirror_mode": {
    "name": "ipython",
    "version": 3
   },
   "file_extension": ".py",
   "mimetype": "text/x-python",
   "name": "python",
   "nbconvert_exporter": "python",
   "pygments_lexer": "ipython3",
   "version": "3.11.3"
  }
 },
 "nbformat": 4,
 "nbformat_minor": 5
}
